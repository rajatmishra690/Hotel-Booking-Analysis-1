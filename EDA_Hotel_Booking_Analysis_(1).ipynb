{
  "nbformat": 4,
  "nbformat_minor": 0,
  "metadata": {
    "colab": {
      "provenance": []
    },
    "kernelspec": {
      "name": "python3",
      "display_name": "Python 3"
    },
    "language_info": {
      "name": "python"
    }
  },
  "cells": [
    {
      "cell_type": "markdown",
      "source": [
        "\n",
        "## **Problem Statement**"
      ],
      "metadata": {
        "id": "O7udTYNWvLz_"
      }
    },
    {
      "cell_type": "markdown",
      "source": [
        "# Have you ever wondered when the best time of year to book a hotel room is? Or the optimal lenght of stay in order to get the best daily rate? What if you wanted to predict whether or not a hotel was likely to receive a disproportionately high number of special request? \n",
        "\n",
        "# This hotel booking dataset can help you explore those question! This dataset contains booking information for a city hotel and a resort hotel, and includes information such as when the booking was made, length of stay, the number of adults, children, and/or babies, and the number of available parking spaces, among other things. All personally identifying information has been removed from the data. \n",
        "\n",
        "# **Explore and analyse the data to discover important factors that govern the bookings.**"
      ],
      "metadata": {
        "id": "9v2OIt15805H"
      }
    },
    {
      "cell_type": "markdown",
      "source": [
        "# ***Business Objective*** - We have given the dataset of hotel booking, In the provided dataset contains the information of Hotel type , Meal type, Stay duration , etc. While any tour or trip I don't want to pay any amount randomly, rather I will pay some optimized money for stay. And I wan't my vacation to be safe with good stay and good meal with optimized money. \n",
        "\n",
        "# This analysis will help the tourist to choose the right hotel,right price, Proper and safe stay also it helps Hotel Management to take right decision for making any changes in service level."
      ],
      "metadata": {
        "id": "GXyHsJAL-tzr"
      }
    },
    {
      "cell_type": "markdown",
      "source": [
        "# Step 1: Know your data "
      ],
      "metadata": {
        "id": "BoCnalbbCVF0"
      }
    },
    {
      "cell_type": "code",
      "source": [
        "# Importing the required library\n",
        "import numpy as np\n",
        "import pandas as pd \n",
        "import matplotlib\n",
        "import matplotlib.pyplot as plt\n",
        "import seaborn as sns\n",
        "%matplotlib inline"
      ],
      "metadata": {
        "id": "eSThB8Pm-xO4"
      },
      "execution_count": null,
      "outputs": []
    },
    {
      "cell_type": "markdown",
      "source": [
        "# Dataset Loading "
      ],
      "metadata": {
        "id": "jA-obb9TETnp"
      }
    },
    {
      "cell_type": "code",
      "source": [
        "# Mount the drive to the notebook \n",
        "from google.colab import drive\n",
        "drive.mount('/content/drive')"
      ],
      "metadata": {
        "colab": {
          "base_uri": "https://localhost:8080/"
        },
        "id": "U7V-n_DkEipF",
        "outputId": "9164474d-eb25-4aa3-dea9-414db2a4cc42"
      },
      "execution_count": null,
      "outputs": [
        {
          "output_type": "stream",
          "name": "stdout",
          "text": [
            "Mounted at /content/drive\n"
          ]
        }
      ]
    },
    {
      "cell_type": "code",
      "source": [
        "#Importing the dataset from the drive\n",
        "df_data = pd.read_csv(\"/content/drive/My Drive/EDA - HOTEL BOOKING ANALYSIS/Hotel Bookings.csv\")"
      ],
      "metadata": {
        "id": "vde4E-vEFJMx",
        "colab": {
          "base_uri": "https://localhost:8080/",
          "height": 328
        },
        "outputId": "03800344-d22c-488d-a440-60a73992be42"
      },
      "execution_count": null,
      "outputs": [
        {
          "output_type": "error",
          "ename": "FileNotFoundError",
          "evalue": "ignored",
          "traceback": [
            "\u001b[0;31m---------------------------------------------------------------------------\u001b[0m",
            "\u001b[0;31mFileNotFoundError\u001b[0m                         Traceback (most recent call last)",
            "\u001b[0;32m<ipython-input-4-907ddfe620bb>\u001b[0m in \u001b[0;36m<module>\u001b[0;34m\u001b[0m\n\u001b[1;32m      1\u001b[0m \u001b[0;31m#Importing the dataset from the drive\u001b[0m\u001b[0;34m\u001b[0m\u001b[0;34m\u001b[0m\u001b[0m\n\u001b[0;32m----> 2\u001b[0;31m \u001b[0mdf_data\u001b[0m \u001b[0;34m=\u001b[0m \u001b[0mpd\u001b[0m\u001b[0;34m.\u001b[0m\u001b[0mread_csv\u001b[0m\u001b[0;34m(\u001b[0m\u001b[0;34m\"/content/drive/My Drive/EDA - HOTEL BOOKING ANALYSIS/Hotel Bookings.csv\"\u001b[0m\u001b[0;34m)\u001b[0m\u001b[0;34m\u001b[0m\u001b[0;34m\u001b[0m\u001b[0m\n\u001b[0m",
            "\u001b[0;32m/usr/local/lib/python3.9/dist-packages/pandas/util/_decorators.py\u001b[0m in \u001b[0;36mwrapper\u001b[0;34m(*args, **kwargs)\u001b[0m\n\u001b[1;32m    309\u001b[0m                     \u001b[0mstacklevel\u001b[0m\u001b[0;34m=\u001b[0m\u001b[0mstacklevel\u001b[0m\u001b[0;34m,\u001b[0m\u001b[0;34m\u001b[0m\u001b[0;34m\u001b[0m\u001b[0m\n\u001b[1;32m    310\u001b[0m                 )\n\u001b[0;32m--> 311\u001b[0;31m             \u001b[0;32mreturn\u001b[0m \u001b[0mfunc\u001b[0m\u001b[0;34m(\u001b[0m\u001b[0;34m*\u001b[0m\u001b[0margs\u001b[0m\u001b[0;34m,\u001b[0m \u001b[0;34m**\u001b[0m\u001b[0mkwargs\u001b[0m\u001b[0;34m)\u001b[0m\u001b[0;34m\u001b[0m\u001b[0;34m\u001b[0m\u001b[0m\n\u001b[0m\u001b[1;32m    312\u001b[0m \u001b[0;34m\u001b[0m\u001b[0m\n\u001b[1;32m    313\u001b[0m         \u001b[0;32mreturn\u001b[0m \u001b[0mwrapper\u001b[0m\u001b[0;34m\u001b[0m\u001b[0;34m\u001b[0m\u001b[0m\n",
            "\u001b[0;32m/usr/local/lib/python3.9/dist-packages/pandas/io/parsers/readers.py\u001b[0m in \u001b[0;36mread_csv\u001b[0;34m(filepath_or_buffer, sep, delimiter, header, names, index_col, usecols, squeeze, prefix, mangle_dupe_cols, dtype, engine, converters, true_values, false_values, skipinitialspace, skiprows, skipfooter, nrows, na_values, keep_default_na, na_filter, verbose, skip_blank_lines, parse_dates, infer_datetime_format, keep_date_col, date_parser, dayfirst, cache_dates, iterator, chunksize, compression, thousands, decimal, lineterminator, quotechar, quoting, doublequote, escapechar, comment, encoding, encoding_errors, dialect, error_bad_lines, warn_bad_lines, on_bad_lines, delim_whitespace, low_memory, memory_map, float_precision, storage_options)\u001b[0m\n\u001b[1;32m    676\u001b[0m     \u001b[0mkwds\u001b[0m\u001b[0;34m.\u001b[0m\u001b[0mupdate\u001b[0m\u001b[0;34m(\u001b[0m\u001b[0mkwds_defaults\u001b[0m\u001b[0;34m)\u001b[0m\u001b[0;34m\u001b[0m\u001b[0;34m\u001b[0m\u001b[0m\n\u001b[1;32m    677\u001b[0m \u001b[0;34m\u001b[0m\u001b[0m\n\u001b[0;32m--> 678\u001b[0;31m     \u001b[0;32mreturn\u001b[0m \u001b[0m_read\u001b[0m\u001b[0;34m(\u001b[0m\u001b[0mfilepath_or_buffer\u001b[0m\u001b[0;34m,\u001b[0m \u001b[0mkwds\u001b[0m\u001b[0;34m)\u001b[0m\u001b[0;34m\u001b[0m\u001b[0;34m\u001b[0m\u001b[0m\n\u001b[0m\u001b[1;32m    679\u001b[0m \u001b[0;34m\u001b[0m\u001b[0m\n\u001b[1;32m    680\u001b[0m \u001b[0;34m\u001b[0m\u001b[0m\n",
            "\u001b[0;32m/usr/local/lib/python3.9/dist-packages/pandas/io/parsers/readers.py\u001b[0m in \u001b[0;36m_read\u001b[0;34m(filepath_or_buffer, kwds)\u001b[0m\n\u001b[1;32m    573\u001b[0m \u001b[0;34m\u001b[0m\u001b[0m\n\u001b[1;32m    574\u001b[0m     \u001b[0;31m# Create the parser.\u001b[0m\u001b[0;34m\u001b[0m\u001b[0;34m\u001b[0m\u001b[0m\n\u001b[0;32m--> 575\u001b[0;31m     \u001b[0mparser\u001b[0m \u001b[0;34m=\u001b[0m \u001b[0mTextFileReader\u001b[0m\u001b[0;34m(\u001b[0m\u001b[0mfilepath_or_buffer\u001b[0m\u001b[0;34m,\u001b[0m \u001b[0;34m**\u001b[0m\u001b[0mkwds\u001b[0m\u001b[0;34m)\u001b[0m\u001b[0;34m\u001b[0m\u001b[0;34m\u001b[0m\u001b[0m\n\u001b[0m\u001b[1;32m    576\u001b[0m \u001b[0;34m\u001b[0m\u001b[0m\n\u001b[1;32m    577\u001b[0m     \u001b[0;32mif\u001b[0m \u001b[0mchunksize\u001b[0m \u001b[0;32mor\u001b[0m \u001b[0miterator\u001b[0m\u001b[0;34m:\u001b[0m\u001b[0;34m\u001b[0m\u001b[0;34m\u001b[0m\u001b[0m\n",
            "\u001b[0;32m/usr/local/lib/python3.9/dist-packages/pandas/io/parsers/readers.py\u001b[0m in \u001b[0;36m__init__\u001b[0;34m(self, f, engine, **kwds)\u001b[0m\n\u001b[1;32m    930\u001b[0m \u001b[0;34m\u001b[0m\u001b[0m\n\u001b[1;32m    931\u001b[0m         \u001b[0mself\u001b[0m\u001b[0;34m.\u001b[0m\u001b[0mhandles\u001b[0m\u001b[0;34m:\u001b[0m \u001b[0mIOHandles\u001b[0m \u001b[0;34m|\u001b[0m \u001b[0;32mNone\u001b[0m \u001b[0;34m=\u001b[0m \u001b[0;32mNone\u001b[0m\u001b[0;34m\u001b[0m\u001b[0;34m\u001b[0m\u001b[0m\n\u001b[0;32m--> 932\u001b[0;31m         \u001b[0mself\u001b[0m\u001b[0;34m.\u001b[0m\u001b[0m_engine\u001b[0m \u001b[0;34m=\u001b[0m \u001b[0mself\u001b[0m\u001b[0;34m.\u001b[0m\u001b[0m_make_engine\u001b[0m\u001b[0;34m(\u001b[0m\u001b[0mf\u001b[0m\u001b[0;34m,\u001b[0m \u001b[0mself\u001b[0m\u001b[0;34m.\u001b[0m\u001b[0mengine\u001b[0m\u001b[0;34m)\u001b[0m\u001b[0;34m\u001b[0m\u001b[0;34m\u001b[0m\u001b[0m\n\u001b[0m\u001b[1;32m    933\u001b[0m \u001b[0;34m\u001b[0m\u001b[0m\n\u001b[1;32m    934\u001b[0m     \u001b[0;32mdef\u001b[0m \u001b[0mclose\u001b[0m\u001b[0;34m(\u001b[0m\u001b[0mself\u001b[0m\u001b[0;34m)\u001b[0m\u001b[0;34m:\u001b[0m\u001b[0;34m\u001b[0m\u001b[0;34m\u001b[0m\u001b[0m\n",
            "\u001b[0;32m/usr/local/lib/python3.9/dist-packages/pandas/io/parsers/readers.py\u001b[0m in \u001b[0;36m_make_engine\u001b[0;34m(self, f, engine)\u001b[0m\n\u001b[1;32m   1214\u001b[0m             \u001b[0;31m# \"Union[str, PathLike[str], ReadCsvBuffer[bytes], ReadCsvBuffer[str]]\"\u001b[0m\u001b[0;34m\u001b[0m\u001b[0;34m\u001b[0m\u001b[0m\n\u001b[1;32m   1215\u001b[0m             \u001b[0;31m# , \"str\", \"bool\", \"Any\", \"Any\", \"Any\", \"Any\", \"Any\"\u001b[0m\u001b[0;34m\u001b[0m\u001b[0;34m\u001b[0m\u001b[0m\n\u001b[0;32m-> 1216\u001b[0;31m             self.handles = get_handle(  # type: ignore[call-overload]\n\u001b[0m\u001b[1;32m   1217\u001b[0m                 \u001b[0mf\u001b[0m\u001b[0;34m,\u001b[0m\u001b[0;34m\u001b[0m\u001b[0;34m\u001b[0m\u001b[0m\n\u001b[1;32m   1218\u001b[0m                 \u001b[0mmode\u001b[0m\u001b[0;34m,\u001b[0m\u001b[0;34m\u001b[0m\u001b[0;34m\u001b[0m\u001b[0m\n",
            "\u001b[0;32m/usr/local/lib/python3.9/dist-packages/pandas/io/common.py\u001b[0m in \u001b[0;36mget_handle\u001b[0;34m(path_or_buf, mode, encoding, compression, memory_map, is_text, errors, storage_options)\u001b[0m\n\u001b[1;32m    784\u001b[0m         \u001b[0;32mif\u001b[0m \u001b[0mioargs\u001b[0m\u001b[0;34m.\u001b[0m\u001b[0mencoding\u001b[0m \u001b[0;32mand\u001b[0m \u001b[0;34m\"b\"\u001b[0m \u001b[0;32mnot\u001b[0m \u001b[0;32min\u001b[0m \u001b[0mioargs\u001b[0m\u001b[0;34m.\u001b[0m\u001b[0mmode\u001b[0m\u001b[0;34m:\u001b[0m\u001b[0;34m\u001b[0m\u001b[0;34m\u001b[0m\u001b[0m\n\u001b[1;32m    785\u001b[0m             \u001b[0;31m# Encoding\u001b[0m\u001b[0;34m\u001b[0m\u001b[0;34m\u001b[0m\u001b[0m\n\u001b[0;32m--> 786\u001b[0;31m             handle = open(\n\u001b[0m\u001b[1;32m    787\u001b[0m                 \u001b[0mhandle\u001b[0m\u001b[0;34m,\u001b[0m\u001b[0;34m\u001b[0m\u001b[0;34m\u001b[0m\u001b[0m\n\u001b[1;32m    788\u001b[0m                 \u001b[0mioargs\u001b[0m\u001b[0;34m.\u001b[0m\u001b[0mmode\u001b[0m\u001b[0;34m,\u001b[0m\u001b[0;34m\u001b[0m\u001b[0;34m\u001b[0m\u001b[0m\n",
            "\u001b[0;31mFileNotFoundError\u001b[0m: [Errno 2] No such file or directory: '/content/drive/My Drive/EDA - HOTEL BOOKING ANALYSIS/Hotel Bookings.csv'"
          ]
        }
      ]
    },
    {
      "cell_type": "markdown",
      "source": [
        "# Dataset First View"
      ],
      "metadata": {
        "id": "bzXOWJTxFW_1"
      }
    },
    {
      "cell_type": "code",
      "source": [
        "# Let's make a copy of our data , so original data will not be affect\n",
        "df = df_data.copy()"
      ],
      "metadata": {
        "id": "tFH8GanNFWZp"
      },
      "execution_count": null,
      "outputs": []
    },
    {
      "cell_type": "code",
      "source": [
        "#Let's take a first view of data \n",
        "df.head()"
      ],
      "metadata": {
        "id": "TrZ98JtmF0G4"
      },
      "execution_count": null,
      "outputs": []
    },
    {
      "cell_type": "code",
      "source": [
        "df.tail()"
      ],
      "metadata": {
        "id": "2YM4ygpTF_Wl"
      },
      "execution_count": null,
      "outputs": []
    },
    {
      "cell_type": "code",
      "source": [
        "# Check the dataset row and column \n",
        "df.shape"
      ],
      "metadata": {
        "id": "mhXFiinIGIO6"
      },
      "execution_count": null,
      "outputs": []
    },
    {
      "cell_type": "markdown",
      "source": [
        "# Dataset Information "
      ],
      "metadata": {
        "id": "sMNZ62PEGS8W"
      }
    },
    {
      "cell_type": "code",
      "source": [
        "# Let's check the info of the data \n",
        "df.info()"
      ],
      "metadata": {
        "id": "FOaJEHJ3GQKj"
      },
      "execution_count": null,
      "outputs": []
    },
    {
      "cell_type": "code",
      "source": [
        "df.describe()"
      ],
      "metadata": {
        "id": "1xmly64PGly3"
      },
      "execution_count": null,
      "outputs": []
    },
    {
      "cell_type": "markdown",
      "source": [
        "# Missing Values/Null Values"
      ],
      "metadata": {
        "id": "u3HWOq64GymN"
      }
    },
    {
      "cell_type": "code",
      "source": [
        "#Checking the total null values in data\n",
        "df.isnull().sum()"
      ],
      "metadata": {
        "id": "m44WR2LIG7_3"
      },
      "execution_count": null,
      "outputs": []
    },
    {
      "cell_type": "code",
      "source": [
        "# In this above Null data\n",
        "# 4 null values present in 'Children'\n",
        "# 488 null values present in 'country'\n",
        "# 16340 null values present in 'agent'\n",
        "# 112593 null values present in 'company'\n",
        "\n",
        "#As 'Company' has huge amount of Null values so we will drop this column to make further analysis easy"
      ],
      "metadata": {
        "id": "dWfqGOP7H26l"
      },
      "execution_count": null,
      "outputs": []
    },
    {
      "cell_type": "code",
      "source": [
        "df.drop(['company'], axis=1, inplace = True)"
      ],
      "metadata": {
        "id": "frcqWsk-Kird"
      },
      "execution_count": null,
      "outputs": []
    },
    {
      "cell_type": "code",
      "source": [
        "# Now we will fill remaining null data with zero\n",
        "df['children'].fillna(value = 0, inplace = True)\n",
        "df['agent'].fillna(value = 0, inplace = True)\n",
        "df['country'].fillna(value = 'Others', inplace = True)"
      ],
      "metadata": {
        "id": "ognYdr0KK3Et"
      },
      "execution_count": null,
      "outputs": []
    },
    {
      "cell_type": "code",
      "source": [
        "# Verify again the data \n",
        "df.isnull().sum()"
      ],
      "metadata": {
        "id": "TKHKOIOxMKmt"
      },
      "execution_count": null,
      "outputs": []
    },
    {
      "cell_type": "markdown",
      "source": [
        "# Hence no any null value pending in this dataset now we are ready to go ahead"
      ],
      "metadata": {
        "id": "ST_O8S4pMVbi"
      }
    },
    {
      "cell_type": "code",
      "source": [
        "# Checking the data types \n",
        "df.dtypes"
      ],
      "metadata": {
        "id": "B0bTsRKTMUZU"
      },
      "execution_count": null,
      "outputs": []
    },
    {
      "cell_type": "markdown",
      "source": [
        "# **Step 2: Understanding Your Variables**"
      ],
      "metadata": {
        "id": "E8PLPQYTM4pm"
      }
    },
    {
      "cell_type": "code",
      "source": [
        "# Dataset Describe\n",
        "df.describe()"
      ],
      "metadata": {
        "id": "NbnXb2suM_vE"
      },
      "execution_count": null,
      "outputs": []
    },
    {
      "cell_type": "markdown",
      "source": [
        "# **Variables Description**\n",
        "Some of important varibales\n",
        "1. hotel: type of hotels\n",
        "2. is_canceled: canceled or not\n",
        "3. lead_time: no. of days before actual\n",
        "arrival in the hotel\n",
        "4. arrival_date_year: year of booking\n",
        "5. arrival_date_month: month of booking\n",
        "6. arrival_date_week_number: week\n",
        "number of the year in which booking\n",
        "7.arrival_date_day_of_month: arrival\n",
        "month date\n",
        "8. stays_in_weekend_nights: no. of\n",
        "weekends guest stayed\n",
        "9. stays_in_week_nights: no. of weekdays\n",
        "guest stayed\n",
        "10. meal: BB – Bed & Breakfast\n",
        "HB – only two meals including\n",
        "breakfast meal\n",
        "FB – breakfast, lunch, and dinner\n",
        "11. market_segment: TA: Travel agents\n",
        "TO: Tour operators\n",
        "12. previous_cancellations: cancellation in\n",
        "past\n",
        "13. previous_bookings_not_canceled: not\n",
        "canceled in the past."
      ],
      "metadata": {
        "id": "0pYSlb7NOHNk"
      }
    },
    {
      "cell_type": "markdown",
      "source": [
        "# Data Wrangling"
      ],
      "metadata": {
        "id": "deCunRodWCcC"
      }
    },
    {
      "cell_type": "code",
      "source": [
        "# Adding some extra column like total number of stay and revenue\n",
        "df['total_num_of_stay'] = df['stays_in_week_nights'] + df['stays_in_weekend_nights']"
      ],
      "metadata": {
        "id": "OamzHBURWBbW"
      },
      "execution_count": null,
      "outputs": []
    },
    {
      "cell_type": "code",
      "source": [
        "#Calculating revenue and adding into a data\n",
        "df['revenue'] = df['total_num_of_stay']*df['adr']"
      ],
      "metadata": {
        "id": "JO9Hp--SWios"
      },
      "execution_count": null,
      "outputs": []
    },
    {
      "cell_type": "code",
      "source": [
        "df.info()"
      ],
      "metadata": {
        "id": "Mpm6H_4xW5lb"
      },
      "execution_count": null,
      "outputs": []
    },
    {
      "cell_type": "code",
      "source": [
        "# In is_cancelled column boolean values are present hence lets convet into a string \n",
        "df['is_cancelled'] = df.is_canceled.replace(to_replace = [1,0], value = ['canceled', 'not_canceled'])"
      ],
      "metadata": {
        "id": "xES2os6ecIgQ"
      },
      "execution_count": null,
      "outputs": []
    },
    {
      "cell_type": "code",
      "source": [
        "df['is_cancelled']"
      ],
      "metadata": {
        "id": "ylzmqcPWdkLp"
      },
      "execution_count": null,
      "outputs": []
    },
    {
      "cell_type": "markdown",
      "source": [
        "# We have added column revenue and total num of stay, also we have changed is_cancelled column with appropriate data "
      ],
      "metadata": {
        "id": "3Lqbc6mqW-ev"
      }
    },
    {
      "cell_type": "markdown",
      "source": [
        "# **Step 3: Data Vizualization, Storytelling and Experimenting with charts**"
      ],
      "metadata": {
        "id": "lnaLwkIXXMQF"
      }
    },
    {
      "cell_type": "markdown",
      "source": [
        "# Q.1 Which hotel is more preferred by customers?"
      ],
      "metadata": {
        "id": "ADriEAFaXrfF"
      }
    },
    {
      "cell_type": "code",
      "source": [
        "# Let's us use the data visualization tool to find the hotel preference\n",
        "plt.rcParams['figure.figsize'] = (8,8)\n",
        "\n",
        "#Lets give the type of chart, colour and size\n",
        "df['hotel'].value_counts().plot(kind='pie', colors = ['orange','yellow'], autopct='%.0f%%', fontsize = 16)\n",
        "plt.title('Types of Hotel', fontsize = 18)\n",
        "plt.ylabel('hotel', fontsize = 16)"
      ],
      "metadata": {
        "id": "ydU0WJtRX2Ja"
      },
      "execution_count": null,
      "outputs": []
    },
    {
      "cell_type": "markdown",
      "source": [
        "\n",
        "\n",
        "*   **Above pie chart city hotel has more preference than the Resort hotel**\n",
        "*   **City hotel have 66% preference and Resort hotel have 34% preference**\n",
        "\n",
        "\n",
        "\n"
      ],
      "metadata": {
        "id": "7x-QByCmZuGc"
      }
    },
    {
      "cell_type": "markdown",
      "source": [
        "# Q 2 Check the cancellation data using data visualization "
      ],
      "metadata": {
        "id": "JgS7iefmbcYO"
      }
    },
    {
      "cell_type": "code",
      "source": [
        "# Let's plot the chart to show the data \n",
        "df.is_canceled.value_counts().plot(kind='pie', colors = ['green', 'pink'], autopct='%.0f%%', fontsize = 16)\n",
        "plt.title('Cancelation Plot for Hotel Booking Customers', fontsize = 18)\n",
        "plt.ylabel('count', fontsize = 16)"
      ],
      "metadata": {
        "id": "3iw6Ev7Eb6y7"
      },
      "execution_count": null,
      "outputs": []
    },
    {
      "cell_type": "markdown",
      "source": [
        "\n",
        "\n",
        "*   **The plot shows 37% bookings were canceled by the customers over 63% is\n",
        "not canceled**\n",
        "\n",
        "\n",
        "\n",
        "\n",
        "\n",
        "\n"
      ],
      "metadata": {
        "id": "85ktctUferiV"
      }
    },
    {
      "cell_type": "markdown",
      "source": [
        "# Q 3 Let's check it out the arrival data "
      ],
      "metadata": {
        "id": "eJutJ1caoiaG"
      }
    },
    {
      "cell_type": "code",
      "source": [
        "# Lets check the data by year\n",
        "arrival_by_year = df[['arrival_date_year','hotel']].value_counts().groupby('arrival_date_year').sum()"
      ],
      "metadata": {
        "id": "M1Q4aRntoflM"
      },
      "execution_count": null,
      "outputs": []
    },
    {
      "cell_type": "code",
      "source": [
        "# Lets print the plot \n",
        "plt.rcParams['figure.figsize'] = (10,8)\n",
        "arrival_by_year.plot(kind='bar', color = ['pink', 'blue','yellow'], fontsize = 16)\n",
        "plt.title('Year Wise Bookings', fontsize = 18)\n",
        "plt.xlabel('Arrival Year', fontsize = 15)\n",
        "plt.ylabel('Count of arrival', fontsize = 15)"
      ],
      "metadata": {
        "id": "HVGnYDHMpVss"
      },
      "execution_count": null,
      "outputs": []
    },
    {
      "cell_type": "markdown",
      "source": [
        "*   **We can observed that in the year 2016 arrival is more than double of the previous year but also** \n",
        "\n",
        "\n",
        "*   **it is observed that arrival has been fallen down in 2017. Hotel Management need to check for the same**\n",
        "\n",
        "\n",
        "\n",
        "\n",
        "\n",
        "\n"
      ],
      "metadata": {
        "id": "HOjIlhClqRJi"
      }
    },
    {
      "cell_type": "code",
      "source": [
        "# Let's calculate for both hotels\n",
        "# Ploting the graph for both hotel \n",
        "plt.rcParams['figure.figsize'] = (10,6)\n",
        "sns.countplot(data = df, x = 'arrival_date_year', hue = 'hotel')\n",
        "plt.title('Arrival per year for each hotel', fontsize = 18)\n",
        "plt.xlabel('Arrival Year', fontsize = 14)\n",
        "plt.ylabel('Count of arrival', fontsize = 14)"
      ],
      "metadata": {
        "id": "HBdpD2aMrkOP"
      },
      "execution_count": null,
      "outputs": []
    },
    {
      "cell_type": "markdown",
      "source": [
        "\n",
        "\n",
        "*   **We can observe that number of arrivals seems to be high in year 2016 for city hotel compared to Resort Hotel, while the bookings seem to be less in 2015 and 2017 for both resort hotel and city hotel.** \n",
        "\n",
        "\n",
        "\n",
        "\n",
        "\n",
        "\n",
        "\n"
      ],
      "metadata": {
        "id": "2j-I47J4s7B8"
      }
    },
    {
      "cell_type": "code",
      "source": [
        "# let's us check arrival per month \n",
        "# Creating the plot arrival per month\n",
        "plt.rcParams['figure.figsize'] = (22,7)\n",
        "sns.countplot(data = df, x = 'arrival_date_month', hue = 'hotel', order = ['January', 'February','March', 'April','May','June','July','August','September','October','November','December'])\n",
        "plt.title('Arrival per month for each hotel', fontsize = 18)\n",
        "plt.xlabel('Arrival Month', fontsize = 14)\n",
        "plt.ylabel('Count of Arrival', fontsize = 14)"
      ],
      "metadata": {
        "id": "hsFGLPAYs9Q9"
      },
      "execution_count": null,
      "outputs": []
    },
    {
      "cell_type": "markdown",
      "source": [
        "\n",
        "\n",
        "*   **We observed that for initial month of the year arrival is less compared to mid-months.**\n",
        "\n",
        "\n",
        "*   **For month May, June,July and August maximum arrival has been seen**\n",
        "\n",
        "*   **for last 2 months trends follows with Jan and Feb Month** \n",
        "\n",
        "\n"
      ],
      "metadata": {
        "id": "VA-NxkVuvM0T"
      }
    },
    {
      "cell_type": "code",
      "source": [
        "# Lets check more preferred country \n",
        "# We will consider only top 10 countries\n",
        "most_preferred_country = df['country'].value_counts().head(10)\n",
        "most_preferred_country"
      ],
      "metadata": {
        "id": "w8ufp_dtv0Do"
      },
      "execution_count": null,
      "outputs": []
    },
    {
      "cell_type": "code",
      "source": [
        "#let's print on the plot \n",
        "plt.rcParams['figure.figsize'] = (20,10)\n",
        "most_preferred_country.plot(kind='bar', color = ['yellow'], fontsize = 12)\n",
        "plt.title('Preference by Country', fontsize = 18)\n",
        "plt.xlabel('Country', fontsize = 15)\n",
        "plt.ylabel('Counts', fontsize = 15)"
      ],
      "metadata": {
        "id": "gUVRn1NPxlj8"
      },
      "execution_count": null,
      "outputs": []
    },
    {
      "cell_type": "markdown",
      "source": [
        "* **Most preferred country is PRT followed by GBR**   \n",
        "\n"
      ],
      "metadata": {
        "id": "UZ7WhbogyNxk"
      }
    },
    {
      "cell_type": "markdown",
      "source": [
        "# Q 4 Let us visulize the cancellation data "
      ],
      "metadata": {
        "id": "rtIbWns_zbzk"
      }
    },
    {
      "cell_type": "code",
      "source": [
        "#Lets find the cancelled booking\n",
        "cancelation_data = df.groupby(['hotel','is_canceled'])['is_canceled'].count().unstack()"
      ],
      "metadata": {
        "id": "misTIpCwzmLV"
      },
      "execution_count": null,
      "outputs": []
    },
    {
      "cell_type": "code",
      "source": [
        "cancelation_data"
      ],
      "metadata": {
        "id": "HRQlRlib0W-2"
      },
      "execution_count": null,
      "outputs": []
    },
    {
      "cell_type": "code",
      "source": [
        "# let's analyze using the plot \n",
        "plt.rcParams['figure.figsize'] = (12,5)\n",
        "cancelation_data.plot(kind = 'bar', color = ['greenyellow', 'blue'], fontsize = 12)\n",
        "plt.title('Cancelation Data for Hotel (0 = Not Cancelled and 1 = Cancelled)', fontsize = 18)\n",
        "plt.xlabel('Hotel Type', fontsize = 14)\n",
        "plt.ylabel('Count', fontsize = 14)"
      ],
      "metadata": {
        "id": "l35-qgxb0dEk"
      },
      "execution_count": null,
      "outputs": []
    },
    {
      "cell_type": "markdown",
      "source": [
        "\n",
        "\n",
        "*  **We observed that city hotel have more cancellation than the Resort hotel hence Hotel Management need to take proper decision to minimize the cancellation**  \n",
        "\n"
      ],
      "metadata": {
        "id": "-RbW_ebX2G3_"
      }
    },
    {
      "cell_type": "markdown",
      "source": [
        "# Q 5 Analysis the data on the basis of ADR (Average Daily Count Rate)"
      ],
      "metadata": {
        "id": "cYMxdi0P3yjc"
      }
    },
    {
      "cell_type": "code",
      "source": [
        "# Let's find out of Average ADR for types of hotel\n",
        "average_adr_hotel = df.groupby(['hotel'])['adr'].mean()\n",
        "average_adr_hotel\n"
      ],
      "metadata": {
        "id": "qv8lpODd2d-t"
      },
      "execution_count": null,
      "outputs": []
    },
    {
      "cell_type": "code",
      "source": [
        "#let's visualize using plot\n",
        "plt.rcParams['figure.figsize'] = (10,6)\n",
        "average_adr_hotel.plot(kind = 'bar', color = ['skyblue', 'orange'], fontsize = 10)\n",
        "plt.title('ADR on the basis of Hotel Type')\n",
        "plt.xlabel('Hotel Type', fontsize = 14 )\n",
        "plt.ylabel('Average ADR', fontsize = 14)"
      ],
      "metadata": {
        "id": "tZBikeqc5rEt"
      },
      "execution_count": null,
      "outputs": []
    },
    {
      "cell_type": "markdown",
      "source": [
        "\n",
        "\n",
        "*    **ADR for city hotel is slightely more than Resort Hotel**\n",
        "\n",
        "\n",
        "\n"
      ],
      "metadata": {
        "id": "qq5ial6-6oCQ"
      }
    },
    {
      "cell_type": "code",
      "source": [
        "# Let's check ADR for top 10 countries\n",
        "country_adr = df.groupby(['country'])['adr'].mean().sort_values(ascending = False)[0:10]\n",
        "\n",
        "country_adr"
      ],
      "metadata": {
        "id": "jkJ8qe2763Wn"
      },
      "execution_count": null,
      "outputs": []
    },
    {
      "cell_type": "code",
      "source": [
        "# Let's check with the graph\n",
        "plt.rcParams['figure.figsize'] = (14,8)\n",
        "country_adr.plot(kind = 'bar', color = 'skyblue', fontsize = 10)\n",
        "plt.title('ADR for top 10 countries')\n",
        "plt.xlabel('Country', fontsize = 12 )\n",
        "plt.ylabel('Average ADR', fontsize = 12)"
      ],
      "metadata": {
        "id": "UAaibPUC7wxd"
      },
      "execution_count": null,
      "outputs": []
    },
    {
      "cell_type": "markdown",
      "source": [
        "\n",
        "*   **We can see DJI have highest ADR comparing to all other countries**\n",
        "\n",
        "\n"
      ],
      "metadata": {
        "id": "1g4ZaOD08b45"
      }
    },
    {
      "cell_type": "code",
      "source": [
        "# Let's Now we will check the ADR for different month and year\n",
        "month_year_adr = df.groupby(['arrival_date_month','arrival_date_year'])['adr'].mean()"
      ],
      "metadata": {
        "id": "7wKlAofd8a3w"
      },
      "execution_count": null,
      "outputs": []
    },
    {
      "cell_type": "code",
      "source": [
        "month_year_adr"
      ],
      "metadata": {
        "id": "59e8GDMuGh5P"
      },
      "execution_count": null,
      "outputs": []
    },
    {
      "cell_type": "code",
      "source": [
        "# Let's do the visulization \n",
        "line,ax = plt.subplots(figsize=(18,5))\n",
        "sns.lineplot(x='arrival_date_month', y='adr', data=df, hue='arrival_date_year', palette='dark')\n",
        "ax.set_title('ADR for Month and Year', fontsize = 18)\n",
        "ax.set_xlabel('Month', fontsize = 14)\n",
        "ax.set_ylabel('ADR', fontsize = 14)"
      ],
      "metadata": {
        "id": "pF_S9AA5Gz49"
      },
      "execution_count": null,
      "outputs": []
    },
    {
      "cell_type": "markdown",
      "source": [
        "\n",
        "\n",
        "*  **As per above line plot we can clearly seen that Hotel Business scaling up each and every year**\n",
        "\n",
        "\n"
      ],
      "metadata": {
        "id": "7R2vOsTsIL1s"
      }
    },
    {
      "cell_type": "markdown",
      "source": [
        "# Q 6 Lets check the Daily rate  "
      ],
      "metadata": {
        "id": "WbTA18QLJZAx"
      }
    },
    {
      "cell_type": "code",
      "source": [
        "# Let's we will calculate \n",
        "# Let us initially calculate the not cancelled booking \n",
        "not_cancelled_guests = df.loc[df['is_canceled']==0]"
      ],
      "metadata": {
        "id": "zHuA7hBvOxA8"
      },
      "execution_count": null,
      "outputs": []
    },
    {
      "cell_type": "code",
      "source": [
        "# Now we will calculate the price per guest \n",
        "# New column has been added in our data as price\n",
        "df['price'] = not_cancelled_guests['adr']*not_cancelled_guests['total_num_of_stay']\n",
        "df.head()"
      ],
      "metadata": {
        "id": "zp9SUTh5Ph19"
      },
      "execution_count": null,
      "outputs": []
    },
    {
      "cell_type": "code",
      "source": [
        "#let's visualize the data by using lineplot using month\n",
        "plt.rcParams['figure.figsize'] = (15,6)\n",
        "sns.lineplot(data=df, x =df['arrival_date_month'], y=df['price'], hue='hotel')\n",
        "plt.title('Month-wise Price Paid for stay by Guests', fontsize = 12)\n",
        "plt.xlabel('Month', fontsize = 12 )\n",
        "plt.ylabel('Price paid for Stay', fontsize = 12)"
      ],
      "metadata": {
        "id": "PssHbNYeQs95"
      },
      "execution_count": null,
      "outputs": []
    },
    {
      "cell_type": "markdown",
      "source": [
        "*   **We observed that price paid by guest in city hotel is lower than the Resort Hotel**\n",
        "\n",
        "\n",
        "*   **Price of Resort Hotel are more than City Hotel in Month of June, July, August, September. For rest of the months, Price of city Hotel are consistently higher thar Resort Hotel** "
      ],
      "metadata": {
        "id": "TL4G4sLMR6cC"
      }
    },
    {
      "cell_type": "markdown",
      "source": [
        "# Q 7 Analysis using Correlation Heatmap"
      ],
      "metadata": {
        "id": "26LYAJusT2Fa"
      }
    },
    {
      "cell_type": "code",
      "source": [
        "plt.rcParams['figure.figsize'] = 24,12\n",
        "sns.heatmap(df.corr(), cmap = 'coolwarm', annot=True);"
      ],
      "metadata": {
        "id": "2LBAvIQBUCf9"
      },
      "execution_count": null,
      "outputs": []
    },
    {
      "cell_type": "markdown",
      "source": [
        "*   **Focus on revenue, stay_in_week_nights total_num_of_stay , we can verify that, revenue were almost same for stay_in_week_nights and total_num_of_stay**\n",
        "\n",
        "\n",
        "*   **Also it is obsereved that stay_in_week_nights was more than the weekend night stay**"
      ],
      "metadata": {
        "id": "0ojzNX-2VBLB"
      }
    },
    {
      "cell_type": "markdown",
      "source": [
        "# **Conclusions**"
      ],
      "metadata": {
        "id": "9fUZDbsDYcVv"
      }
    },
    {
      "cell_type": "markdown",
      "source": [
        "![image.png](data:image/png;base64,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)"
      ],
      "metadata": {
        "id": "twMOLUt4FVkP"
      }
    }
  ]
}